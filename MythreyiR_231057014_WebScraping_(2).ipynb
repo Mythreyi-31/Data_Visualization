{
 "cells": [
  {
   "cell_type": "code",
   "execution_count": 2,
   "metadata": {},
   "outputs": [
    {
     "name": "stdout",
     "output_type": "stream",
     "text": [
      "<title>Iconic &amp; Award Winning 5 Star Luxury Hotels &amp; Resorts in India - ITC Hotels</title>\n",
      "\n",
      "Iconic & Award Winning 5 Star Luxury Hotels & Resorts in India - ITC Hotels\n",
      "\n",
      "\n",
      "\n",
      "\n",
      "\n",
      "\n",
      "\n",
      "\n",
      "\n",
      "\n",
      "\n",
      "\n",
      "\n",
      "\n",
      "\n",
      "\n",
      "\n",
      "\n",
      "\n",
      "\n",
      "\n",
      "\n",
      "\n",
      "\n",
      "\n",
      "\n",
      "\n",
      "\n",
      "\n",
      "\n",
      "\n",
      "\n",
      "\n",
      "\n",
      "\n",
      "\n",
      "\n",
      "\n",
      "\n",
      "\n",
      "\n",
      "Home\n",
      "\n",
      "\n"
     ]
    }
   ],
   "source": [
    "import requests\n",
    "from bs4 import BeautifulSoup\n",
    "main=requests.get(\"https://www.itchotels.com\")\n",
    "soup=BeautifulSoup(main.text,'html')\n",
    "print(soup.find('title'))\n",
    "#prints title\n",
    "main_page=soup.find_all(\"div\",class_='analytics-hidden-element')\n",
    "for i in main_page:\n",
    "    print(i)\n",
    "#prints contents of the class contactus\n",
    "overview=soup.find_all(class_='analytics-hidden-element')\n",
    "for z in overview:\n",
    "    print(z.text)\n",
    "\n",
    "# all the content is displayed as text"
   ]
  },
  {
   "cell_type": "code",
   "execution_count": 9,
   "metadata": {},
   "outputs": [
    {
     "name": "stdout",
     "output_type": "stream",
     "text": [
      "\n",
      "\n",
      "\n",
      "\n",
      "\n",
      "\n",
      "\n",
      "\n",
      "\n",
      "\n",
      "All-In Getaways\n",
      "\n",
      "Indulge in some much needed pampering with our all-inclusive holiday offer.\n",
      "\n",
      "\n",
      "\n",
      "Length Of stay \n",
      "Flexible \n",
      "\n",
      "\n",
      "Fully Refundable \n",
      "No retention would be charged if cancelled within the cancellation period (may vary by hotel) \n",
      "\n",
      "\n",
      "Inclusions\n",
      "Daily Breakfast for 2 adults, 2 major meals across applicable outlets.\n",
      "\n",
      "\n",
      "\n",
      "\n",
      "Select hotel and reserve\n",
      "\n",
      "\n",
      "Reserve\n",
      "\n",
      "\n",
      "\n",
      "\n",
      "\n"
     ]
    }
   ],
   "source": [
    "# URL of the secondary page\n",
    "secondary_url = \"https://www.itchotels.com/in/en/offers/all-in-getaway\"\n",
    "response_secondary = requests.get(secondary_url)\n",
    "soup_secondary = BeautifulSoup(response_secondary.content, 'html.parser')\n",
    "\n",
    "div_elements = soup_secondary.find_all(\"div\", class_='offer-overview itc-container-2')\n",
    "for h3 in div_elements:\n",
    "    print(h3.text)"
   ]
  },
  {
   "cell_type": "code",
   "execution_count": 11,
   "metadata": {},
   "outputs": [],
   "source": [
    "import csv"
   ]
  },
  {
   "cell_type": "code",
   "execution_count": 12,
   "metadata": {},
   "outputs": [
    {
     "name": "stdout",
     "output_type": "stream",
     "text": [
      "Data is extracted to assgn2.csv\n"
     ]
    }
   ],
   "source": [
    "# Create a list to store extracted values\n",
    "values = []\n",
    "    \n",
    "# Extract and store the text content from the div elements\n",
    "for div in overview:\n",
    "    values.append(div.get_text(strip=True)) #This is a BeautifulSoup method that retrieves the text content of the HTML element. The strip=True argument is used to remove any leading or trailing whitespace characters from the text.\n",
    "    \n",
    "# Write the values to a CSV file\n",
    "filename = 'assgn2.csv'\n",
    "with open(filename, 'w', newline='') as f:\n",
    "    writer = csv.writer(f)\n",
    "    writer.writerow(['Extracted Values'])\n",
    "    writer.writerows([[value] for value in values])\n",
    "    \n",
    "    print(\"Data is extracted to\", filename)"
   ]
  }
 ],
 "metadata": {
  "kernelspec": {
   "display_name": "aimlsem1",
   "language": "python",
   "name": "python3"
  },
  "language_info": {
   "codemirror_mode": {
    "name": "ipython",
    "version": 3
   },
   "file_extension": ".py",
   "mimetype": "text/x-python",
   "name": "python",
   "nbconvert_exporter": "python",
   "pygments_lexer": "ipython3",
   "version": "3.9.17"
  },
  "orig_nbformat": 4
 },
 "nbformat": 4,
 "nbformat_minor": 2
}
